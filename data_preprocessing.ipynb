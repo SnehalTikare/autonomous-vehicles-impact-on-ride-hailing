{
 "cells": [
  {
   "cell_type": "code",
   "execution_count": 1,
   "metadata": {},
   "outputs": [],
   "source": [
    "import pandas as pd \n",
    "\n",
    "rides = pd.read_csv(\"yellow_tripdata_2015-01.csv\")"
   ]
  },
  {
   "cell_type": "code",
   "execution_count": 46,
   "metadata": {},
   "outputs": [
    {
     "data": {
      "text/plain": [
       "1048575"
      ]
     },
     "execution_count": 46,
     "metadata": {},
     "output_type": "execute_result"
    }
   ],
   "source": [
    "len(rides)"
   ]
  },
  {
   "cell_type": "code",
   "execution_count": 97,
   "metadata": {},
   "outputs": [],
   "source": [
    "temp_df = rides.head(20)"
   ]
  },
  {
   "cell_type": "code",
   "execution_count": 101,
   "metadata": {},
   "outputs": [],
   "source": [
    "# Removes trips that either start or end before 8AM and after 10PM\n",
    "\n",
    "indices_to_drop = []\n",
    "\n",
    "for index, row in temp_df.iterrows():\n",
    "    if int(str(row['tpep_pickup_datetime'].split(' ')[1].split(':')[0])) <= 7 or int(str(row['tpep_pickup_datetime'].split(' ')[1].split(':')[0])) >= 22 or int(str(row['tpep_dropoff_datetime'].split(' ')[1].split(':')[0])) <= 7 or int(str(row['tpep_dropoff_datetime'].split(' ')[1].split(':')[0])) >= 22:\n",
    "        indices_to_drop.append(index)\n",
    "    \n",
    "    # Removes trips that are either more 999 miles or cost more than $999\n",
    "    # Removes outliers\n",
    "    if len(str(row['trip_distance']).split('.')[0]) > 3 or len(str(row['total_amount']).split('.')[0]) > 3:\n",
    "        indices_to_drop.append(index)\n",
    "        \n",
    "if indices_to_drop:\n",
    "    temp_df.drop(indices_to_drop, inplace=True)"
   ]
  }
 ],
 "metadata": {
  "kernelspec": {
   "display_name": "Python 3",
   "language": "python",
   "name": "python3"
  },
  "language_info": {
   "codemirror_mode": {
    "name": "ipython",
    "version": 3
   },
   "file_extension": ".py",
   "mimetype": "text/x-python",
   "name": "python",
   "nbconvert_exporter": "python",
   "pygments_lexer": "ipython3",
   "version": "3.7.4"
  }
 },
 "nbformat": 4,
 "nbformat_minor": 4
}
